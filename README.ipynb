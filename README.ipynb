{
  "nbformat": 4,
  "nbformat_minor": 0,
  "metadata": {
    "colab": {
      "name": "Gaussian",
      "provenance": [],
      "collapsed_sections": []
    },
    "kernelspec": {
      "name": "python3",
      "display_name": "Python 3"
    },
    "language_info": {
      "name": "python"
    }
  },
  "cells": [
    {
      "cell_type": "markdown",
      "source": [
        "# **Gaussian Elimination Implementation with NumPy**"
      ],
      "metadata": {
        "id": "ts-WsjuK4vi1"
      }
    },
    {
      "cell_type": "markdown",
      "source": [
        "**Introduction**"
      ],
      "metadata": {
        "id": "hgjvdDDwChxr"
      }
    },
    {
      "cell_type": "markdown",
      "source": [
        "Guassian Jordan Elimination is an algorithm in mathematical linear algebra that can convert a matrix into a row echelon matrix. Gaussian elimination can be used to solve systems of linear equations, find the rank of matrices, and find the inverse of an invertible square matrix.<br>\n",
        "The concept of Gaussian Elimination is to add, substruct, or multiply one equation to make the coefficient of a variable matches itself in another equation in order to eliminate the variable and to continue this process until only one variable is left. Once this final variable is determined, its value is substituted back into the other equations in order to evaluate the remaining unknowns. This method, characterized by step‐by‐step elimination of the variables, is called Gaussian elimination.<BR>\n",
        "However, the Gaussian Elimination method has its limitation, the most common situation that Gaussian method is not suitable is diagonal elements in the matrix contain zero.\n",
        "<!-- has been a very useful tool when solving linear algebra -->\n",
        "\n",
        "\n"
      ],
      "metadata": {
        "id": "Dh8pQZ2jAI86"
      }
    },
    {
      "cell_type": "markdown",
      "source": [
        "For example, we have a 3 x 3 matrix shown as below\n",
        "\n",
        "**$x_{1}$+$x_{2}$-$x_{3}$=-2   ($l_{1}$)<br>**\n",
        "**2$x_{1}$-$x_{2}$+$x_{3}$=5   ($l_{2}$)<br>**\n",
        "**-$x_{1}$+2$x_{2}$+2$x_{3}$=-2 ($l_{3}$)**\n",
        "\n"
      ],
      "metadata": {
        "id": "LbQlFI7u5LUz"
      }
    },
    {
      "cell_type": "markdown",
      "source": [
        "**The Traditional Method** <BR>"
      ],
      "metadata": {
        "id": "BkKoIhE9OxMB"
      }
    },
    {
      "cell_type": "markdown",
      "source": [
        "The traditional algebratic method usually rewrites one of the equations as an equation for an unknown variable, and then use that equation to replace the particular variable in another equation, and so on so forth until there is only one unknown variable left in the matrix and thus becomes solvable.<br>\n",
        "For example, the (L1) in the matrix above could be written as <br> \n",
        "**$x_{1}$=-2-$x_{2}$+$x_{3}$ (L1)<br>**\n",
        "Then use the right side to replace the $x_{1}$ in (L2) <BR>\n",
        "**2(-2-$x_{2}$+$x_{3}$)-$x_{2}$+$x_{3}$=5 (L2) <br>**\n",
        "After simplification of (L2), the same procedure will be used on (L2) and make it an equation for variable \n",
        "**$x_{2}$**\n",
        "to replace the x2 in (L3) and finally solve for **$x_{3}$** in (L3).<br>\n",
        "<br>\n",
        "This method usually takes too many substituions and requires simplification after each replacement, thus causing unneccessary computations and taking longer time, espcially when there are more equations in the matrix. In contrast, Gaussian Elimination is a better way of solving linear algebra functions like this, Gaussian method can also be used in computers to solve thousands of equations and unknowns variables in a fast speed."
      ],
      "metadata": {
        "id": "AI7-vX42IkU2"
      }
    },
    {
      "cell_type": "markdown",
      "source": [
        "**Gaussian Elimination Method** <br>\n"
      ],
      "metadata": {
        "id": "uugzi6BWhj8J"
      }
    },
    {
      "cell_type": "markdown",
      "source": [
        "By using the Gaussian Elimination Method, we will first construct a coefficient matrix of the previous linear equations <br>\n",
        "**$x_{1}$+$x_{2}$-$x_{3}$=-2   ($l_{1}$)<br>**\n",
        "**2$x_{1}$-$x_{2}$+$x_{3}$=5   ($l_{2}$)<br>**\n",
        "**-$x_{1}$+2$x_{2}$+2$x_{3}$=-2 ($l_{3}$)** <br>\n",
        "# =\n",
        "\n",
        "\n",
        "**[1.0, 1.0, -1.0 | -2],   ($l_{1}$)<br>**\n",
        "**[2.0, -1.0, 1.0 | 5],    ($l_{2}$)<br>**\n",
        "**[-1.0, 2.0, 2.0 | 1]    ($l_{3}$)**"
      ],
      "metadata": {
        "id": "Wd7tXWgPUTaV"
      }
    },
    {
      "cell_type": "markdown",
      "source": [
        "One prerequestie of Gaussian elimination method is that the diagnal elements in the matrix cannot be zero, so we will check this to make sure the method is applicable in the particular matrix.\n",
        "Then we will start finding the common divisor/factor of the first elements on each row.\n",
        "We first multuply (L1) by 2 to make it's first element match (L2), then we have (L1) as <br>\n",
        "**[2.0, 2.0, -2.0 | -4], ($l_{1}$)**<br>\n",
        "using the new (L1) to substruct (L2), we have:<br>\n",
        "<br>\n",
        "[2.0, 2.0, -2.0 | -4] - [2.0, -1.0, 1.0 | 5]<br>\n",
        "**=[0, 3.0, -3.0 | -9]** **($l_{1}$**)<br>\n",
        "<br>\n",
        "We then multuply (L2) by -0.5 to make it's first element match (L3), then we have (L2) as: <br>\n",
        "**[-1.0, 0.5, -0.5 | -2.5], ($l_{2}$)**<br>\n",
        "<br>\n",
        "using the new (L2) to substruct (L3), we have:<br>\n",
        "<br>\n",
        "[-1.0, 0.5, -0.5 | -2.5]-[-1.0, 2.0, 2.0 | 1]<br>\n",
        "**=[0, -1.5, -2.5 | -1.5]** **($l_{2}$**)<br>\n",
        "<br>"
      ],
      "metadata": {
        "id": "_SAWfTwQjKBE"
      }
    },
    {
      "cell_type": "markdown",
      "source": [
        "Now, we have finished processing the first elements in this matrix, and the matrix now looks like this:<br>\n",
        "<BR>\n",
        "**[ 0.   3.   -3. ]** <br>\n",
        "**[0.  -1.5 -2.5]**<br>\n",
        "**[-1.   2.   2. ]** <br>\n",
        "<br>\n",
        "As we can see, there is only one first element left in the last equation and the else have been eliminated, and now we will do the same thing to the second elements, but this time we will leave one more elements in the second equation. Once it's done, the matrix looks like:<br>\n",
        "<BR>\n",
        "\n",
        "**[ 0,   0,  4 | 8]** <br>\n",
        "**[ 0,-1.5,-2.5 | -3.5]**<br>\n",
        "**[-1, 2, 2 | 1]**<br>\n",
        "<br>\n",
        "Now, the value of $x_{3}$ becomes intutive which is 8/4 = 2, once $x_{3}$ is known, we can put the value in the second equation to solve for $x_{2}$, and thus the $x_{1}$ in (L3) is also solvable. <BR>\n",
        "<br>\n",
        "Thus the result for $x_{1}$, $x_{2}$, $x_{3}$ are respectively **[ 1 ] , [ -1 ] , [ 2 ]**"
      ],
      "metadata": {
        "id": "Lvi45pUJoEUF"
      }
    },
    {
      "cell_type": "markdown",
      "source": [
        "**Python implementation of Gaussian Elimination**"
      ],
      "metadata": {
        "id": "JyUATWrACcDA"
      }
    },
    {
      "cell_type": "code",
      "execution_count": 8,
      "metadata": {
        "id": "qKovOWNRayRr"
      },
      "outputs": [],
      "source": [
        "# import necessary libs\n",
        "\n",
        "import numpy as np\n",
        "from scipy import linalg"
      ]
    },
    {
      "cell_type": "code",
      "source": [
        "# construct the matracies using NumPy mat function\n",
        "# a reprents the coefficient matrix, b represents the constant terms matrix(Y side)\n",
        "\n",
        "a =np.mat([\n",
        "        [1.0, 1.0, -1.0],\n",
        "        [2.0, -1.0, 1.0],\n",
        "        [-1.0, 2.0, 2.0],],dtype=float)\n",
        "b = np.mat([-2, 5, 1],dtype=float).T\n"
      ],
      "metadata": {
        "id": "jp-s4F1fa6Jy"
      },
      "execution_count": 55,
      "outputs": []
    },
    {
      "cell_type": "code",
      "source": [
        "print('The Coefficient matrix is')\n",
        "print(a)\n",
        "print('The constants terms are')\n",
        "print(b)"
      ],
      "metadata": {
        "colab": {
          "base_uri": "https://localhost:8080/"
        },
        "id": "Ty3wAEc7slk8",
        "outputId": "b07c2847-87fe-4bc7-ebf3-68103c03cdaf"
      },
      "execution_count": 46,
      "outputs": [
        {
          "output_type": "stream",
          "name": "stdout",
          "text": [
            "The Coefficient matrix is\n",
            "[[ 1.  1. -1.]\n",
            " [ 2. -1.  1.]\n",
            " [-1.  2.  2.]]\n",
            "The constants terms are\n",
            "[[-2.]\n",
            " [ 5.]\n",
            " [ 1.]]\n"
          ]
        }
      ]
    },
    {
      "cell_type": "markdown",
      "source": [
        "First, we will need to check if the diagonal elements in the matrix contain zero. If so, the Gaussian elimination will not work"
      ],
      "metadata": {
        "id": "kUFNMbwgtvwU"
      }
    },
    {
      "cell_type": "code",
      "source": [
        "# Since the diagonal elements cannot be zeros:\n",
        "# The code below will check each diagonal element and compare it to zero, \n",
        "# if zero value is detected, the code will generate an error message \n",
        "# and print the coordinate of the zero value diagonal element\n",
        "row,column=a.shape\n",
        "row_idx=row-1\n",
        "column_idx=0\n",
        "while row_idx>=0 and column_idx<=column-1:\n",
        "  if a[row_idx,column_idx]==0:\n",
        "    print('diagonal element coordinate',str([row_idx+1,column_idx+1]),'is zero')\n",
        "  break\n",
        "  row_idx-=1\n",
        "  column_idx+=1\n",
        "\n"
      ],
      "metadata": {
        "id": "450bs20sl3Uc"
      },
      "execution_count": 56,
      "outputs": []
    },
    {
      "cell_type": "markdown",
      "source": [
        "The code did not generate any error message, so we will be able to apply Gaussian Elimination method to the matrix.<br>\n",
        "<br>\n",
        "The codes below excute the procedures of finding common divisor of two equations, multiplying the first equation and then substruct the second equation in order to eliminate a variable. Once this process is done, it will update b, the constant terms accordingly."
      ],
      "metadata": {
        "id": "GWE5GSdtuibb"
      }
    },
    {
      "cell_type": "code",
      "source": [
        "row,column=a.shape #getting the dimensions/size of the matrix, and set them as the upbond of row and column iteration\n",
        "count=1\n",
        "for j in range(0,column-1):\n",
        "  for i in range(0,row-1):\n",
        "    if a[i,j] == 0: #checking if an element is already zero, if so, skip\n",
        "      continue\n",
        "    else:\n",
        "      common_divisor=a[i+1,j]/a[i,j]  #finding the common divisor of two equations\n",
        "      a[i,j:]=common_divisor*a[i,j:]-a[i+1,j:]  #update the first equation -- multiplying the first equation by the common divisor and substrcut the second equation\n",
        "      b[i]=common_divisor*b[i]-b[i+1] #update the constant term accordingly\n",
        "      print('step',count) \n",
        "      print(a) #print the current number of step, and the current matrix\n",
        "      count+=1\n",
        "  row-=1"
      ],
      "metadata": {
        "colab": {
          "base_uri": "https://localhost:8080/"
        },
        "id": "DqgRVCzllP6o",
        "outputId": "c411c96c-af5f-4615-a185-4bb719ba1922"
      },
      "execution_count": 57,
      "outputs": [
        {
          "output_type": "stream",
          "name": "stdout",
          "text": [
            "step 1\n",
            "[[ 0.  3. -3.]\n",
            " [ 2. -1.  1.]\n",
            " [-1.  2.  2.]]\n",
            "step 2\n",
            "[[ 0.   3.  -3. ]\n",
            " [ 0.  -1.5 -2.5]\n",
            " [-1.   2.   2. ]]\n",
            "step 3\n",
            "[[ 0.   0.   4. ]\n",
            " [ 0.  -1.5 -2.5]\n",
            " [-1.   2.   2. ]]\n"
          ]
        }
      ]
    },
    {
      "cell_type": "markdown",
      "source": [
        "Printing the new coefficient matrix and the new constant terms"
      ],
      "metadata": {
        "id": "NO-BggS-xiR7"
      }
    },
    {
      "cell_type": "code",
      "source": [
        "print('The new coefficient matrix is')\n",
        "print(a)\n",
        "print('The new constants terms are')\n",
        "print(b)"
      ],
      "metadata": {
        "colab": {
          "base_uri": "https://localhost:8080/"
        },
        "id": "tnO01dDJxaca",
        "outputId": "783f6501-314b-48ed-cc97-e156e59ea741"
      },
      "execution_count": 58,
      "outputs": [
        {
          "output_type": "stream",
          "name": "stdout",
          "text": [
            "The new coefficient matrix is\n",
            "[[ 0.   0.   4. ]\n",
            " [ 0.  -1.5 -2.5]\n",
            " [-1.   2.   2. ]]\n",
            "The new constants terms are\n",
            "[[ 8. ]\n",
            " [-3.5]\n",
            " [ 1. ]]\n"
          ]
        }
      ]
    },
    {
      "cell_type": "markdown",
      "source": [
        "Creating an array 'x' to store the values of variables"
      ],
      "metadata": {
        "id": "Tp1_902KxuCU"
      }
    },
    {
      "cell_type": "code",
      "source": [
        "row,column=a.shape\n",
        "x=np.mat(np.zeros(row)).T"
      ],
      "metadata": {
        "id": "QbOytFSaIa3v"
      },
      "execution_count": 59,
      "outputs": []
    },
    {
      "cell_type": "markdown",
      "source": [
        "Calculating variables"
      ],
      "metadata": {
        "id": "FVg_EdY1x81i"
      }
    },
    {
      "cell_type": "code",
      "source": [
        "\n",
        "ranks=0 #the current rank of the matrix in interation\n",
        "col=column-1\n",
        "while ranks<=row-1:\n",
        "  lst=[]\n",
        "  for n in range(0,ranks): # the ranks starts from 0, but the iteration of column starts from the greatest, and becomes smaller as n increases\n",
        "    lst.append(a[ranks,col-n]*x[-1-n]) #col-n is the current column in the iteration, since n will always be one less than current rank(row), the first non-zero element will be kept untouched.\n",
        "  x[-1-ranks]=(b[ranks]-sum(lst))/a[ranks,col-ranks]\n",
        "  ranks+=1"
      ],
      "metadata": {
        "id": "8HCwm807nCkU"
      },
      "execution_count": 60,
      "outputs": []
    },
    {
      "cell_type": "markdown",
      "source": [
        "Printing the array x containing variables:"
      ],
      "metadata": {
        "id": "kOzhxTD0zTgh"
      }
    },
    {
      "cell_type": "code",
      "source": [
        "print(x)"
      ],
      "metadata": {
        "colab": {
          "base_uri": "https://localhost:8080/"
        },
        "id": "tFwL4a4azStp",
        "outputId": "f178f70b-33a8-4112-ba2e-407b5d8610bc"
      },
      "execution_count": 63,
      "outputs": [
        {
          "output_type": "stream",
          "name": "stdout",
          "text": [
            "[[ 1.]\n",
            " [-1.]\n",
            " [ 2.]]\n"
          ]
        }
      ]
    },
    {
      "cell_type": "markdown",
      "source": [
        "Using linear algebra solver in Scipy Module to validate/testify our answers"
      ],
      "metadata": {
        "id": "C24bUzw8zsEB"
      }
    },
    {
      "cell_type": "code",
      "source": [
        "print(linalg.solve(a,b))"
      ],
      "metadata": {
        "colab": {
          "base_uri": "https://localhost:8080/"
        },
        "id": "iGuWADlEzFcU",
        "outputId": "7ff780a9-3a55-4aa2-de7c-ebb373cd4bd4"
      },
      "execution_count": 66,
      "outputs": [
        {
          "output_type": "stream",
          "name": "stdout",
          "text": [
            "[[ 1.]\n",
            " [-1.]\n",
            " [ 2.]]\n"
          ]
        }
      ]
    },
    {
      "cell_type": "markdown",
      "source": [
        "The result is identical to our answers"
      ],
      "metadata": {
        "id": "3H4U9Z1Tz9A0"
      }
    }
  ]
}